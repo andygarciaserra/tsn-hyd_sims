{
 "cells": [
  {
   "cell_type": "code",
   "execution_count": 2,
   "metadata": {},
   "outputs": [],
   "source": [
    "# Packages\n",
    "import h5py    \n",
    "import numpy as np    \n",
    "import matplotlib.pyplot as plt\n",
    "from scipy.constants import pi\n",
    "from scipy.optimize import curve_fit as fit\n",
    "import func as func\n",
    "\n",
    "# To quit warnings for showing up in cell outputs:\n",
    "import warnings\n",
    "warnings.filterwarnings('ignore')"
   ]
  },
  {
   "cell_type": "markdown",
   "metadata": {},
   "source": [
    "### v=0 final snapshot fitting"
   ]
  },
  {
   "cell_type": "code",
   "execution_count": 3,
   "metadata": {},
   "outputs": [
    {
     "ename": "ValueError",
     "evalue": "array must not contain infs or NaNs",
     "output_type": "error",
     "traceback": [
      "\u001b[0;31m---------------------------------------------------------------------------\u001b[0m",
      "\u001b[0;31mValueError\u001b[0m                                Traceback (most recent call last)",
      "\u001b[0;32m<ipython-input-3-8a0d3d4e06a4>\u001b[0m in \u001b[0;36m<module>\u001b[0;34m\u001b[0m\n\u001b[1;32m     54\u001b[0m \u001b[0minit_guesses\u001b[0m\u001b[0;34m=\u001b[0m\u001b[0;34m[\u001b[0m\u001b[0;36m10\u001b[0m\u001b[0;34m**\u001b[0m\u001b[0;36m8.5\u001b[0m\u001b[0;34m,\u001b[0m\u001b[0;36m10\u001b[0m\u001b[0;34m]\u001b[0m\u001b[0;34m\u001b[0m\u001b[0;34m\u001b[0m\u001b[0m\n\u001b[1;32m     55\u001b[0m \u001b[0mr\u001b[0m\u001b[0;34m=\u001b[0m\u001b[0;36m10\u001b[0m\u001b[0;34m**\u001b[0m\u001b[0mlogprof\u001b[0m\u001b[0;34m[\u001b[0m\u001b[0;36m0\u001b[0m\u001b[0;34m]\u001b[0m\u001b[0;34m\u001b[0m\u001b[0;34m\u001b[0m\u001b[0m\n\u001b[0;32m---> 56\u001b[0;31m \u001b[0mpopt\u001b[0m\u001b[0;34m,\u001b[0m\u001b[0mpcov\u001b[0m\u001b[0;34m=\u001b[0m\u001b[0mfit\u001b[0m\u001b[0;34m(\u001b[0m\u001b[0mfunc\u001b[0m\u001b[0;34m.\u001b[0m\u001b[0mlogNFW\u001b[0m\u001b[0;34m,\u001b[0m\u001b[0mr\u001b[0m\u001b[0;34m,\u001b[0m\u001b[0mlogprof\u001b[0m\u001b[0;34m[\u001b[0m\u001b[0;36m1\u001b[0m\u001b[0;34m]\u001b[0m\u001b[0;34m,\u001b[0m\u001b[0;34m[\u001b[0m\u001b[0;36m10\u001b[0m\u001b[0;34m**\u001b[0m\u001b[0;36m8\u001b[0m\u001b[0;34m,\u001b[0m\u001b[0;36m10\u001b[0m\u001b[0;34m]\u001b[0m\u001b[0;34m)\u001b[0m\u001b[0;34m\u001b[0m\u001b[0;34m\u001b[0m\u001b[0m\n\u001b[0m\u001b[1;32m     57\u001b[0m \u001b[0;34m\u001b[0m\u001b[0m\n\u001b[1;32m     58\u001b[0m \u001b[0;34m\u001b[0m\u001b[0m\n",
      "\u001b[0;32m~/.local/lib/python3.8/site-packages/scipy/optimize/minpack.py\u001b[0m in \u001b[0;36mcurve_fit\u001b[0;34m(f, xdata, ydata, p0, sigma, absolute_sigma, check_finite, bounds, method, jac, **kwargs)\u001b[0m\n\u001b[1;32m    733\u001b[0m     \u001b[0;31m# NaNs cannot be handled\u001b[0m\u001b[0;34m\u001b[0m\u001b[0;34m\u001b[0m\u001b[0;34m\u001b[0m\u001b[0m\n\u001b[1;32m    734\u001b[0m     \u001b[0;32mif\u001b[0m \u001b[0mcheck_finite\u001b[0m\u001b[0;34m:\u001b[0m\u001b[0;34m\u001b[0m\u001b[0;34m\u001b[0m\u001b[0m\n\u001b[0;32m--> 735\u001b[0;31m         \u001b[0mydata\u001b[0m \u001b[0;34m=\u001b[0m \u001b[0mnp\u001b[0m\u001b[0;34m.\u001b[0m\u001b[0masarray_chkfinite\u001b[0m\u001b[0;34m(\u001b[0m\u001b[0mydata\u001b[0m\u001b[0;34m,\u001b[0m \u001b[0mfloat\u001b[0m\u001b[0;34m)\u001b[0m\u001b[0;34m\u001b[0m\u001b[0;34m\u001b[0m\u001b[0m\n\u001b[0m\u001b[1;32m    736\u001b[0m     \u001b[0;32melse\u001b[0m\u001b[0;34m:\u001b[0m\u001b[0;34m\u001b[0m\u001b[0;34m\u001b[0m\u001b[0m\n\u001b[1;32m    737\u001b[0m         \u001b[0mydata\u001b[0m \u001b[0;34m=\u001b[0m \u001b[0mnp\u001b[0m\u001b[0;34m.\u001b[0m\u001b[0masarray\u001b[0m\u001b[0;34m(\u001b[0m\u001b[0mydata\u001b[0m\u001b[0;34m,\u001b[0m \u001b[0mfloat\u001b[0m\u001b[0;34m)\u001b[0m\u001b[0;34m\u001b[0m\u001b[0;34m\u001b[0m\u001b[0m\n",
      "\u001b[0;32m~/.local/lib/python3.8/site-packages/numpy/lib/function_base.py\u001b[0m in \u001b[0;36masarray_chkfinite\u001b[0;34m(a, dtype, order)\u001b[0m\n\u001b[1;32m    486\u001b[0m     \u001b[0ma\u001b[0m \u001b[0;34m=\u001b[0m \u001b[0masarray\u001b[0m\u001b[0;34m(\u001b[0m\u001b[0ma\u001b[0m\u001b[0;34m,\u001b[0m \u001b[0mdtype\u001b[0m\u001b[0;34m=\u001b[0m\u001b[0mdtype\u001b[0m\u001b[0;34m,\u001b[0m \u001b[0morder\u001b[0m\u001b[0;34m=\u001b[0m\u001b[0morder\u001b[0m\u001b[0;34m)\u001b[0m\u001b[0;34m\u001b[0m\u001b[0;34m\u001b[0m\u001b[0m\n\u001b[1;32m    487\u001b[0m     \u001b[0;32mif\u001b[0m \u001b[0ma\u001b[0m\u001b[0;34m.\u001b[0m\u001b[0mdtype\u001b[0m\u001b[0;34m.\u001b[0m\u001b[0mchar\u001b[0m \u001b[0;32min\u001b[0m \u001b[0mtypecodes\u001b[0m\u001b[0;34m[\u001b[0m\u001b[0;34m'AllFloat'\u001b[0m\u001b[0;34m]\u001b[0m \u001b[0;32mand\u001b[0m \u001b[0;32mnot\u001b[0m \u001b[0mnp\u001b[0m\u001b[0;34m.\u001b[0m\u001b[0misfinite\u001b[0m\u001b[0;34m(\u001b[0m\u001b[0ma\u001b[0m\u001b[0;34m)\u001b[0m\u001b[0;34m.\u001b[0m\u001b[0mall\u001b[0m\u001b[0;34m(\u001b[0m\u001b[0;34m)\u001b[0m\u001b[0;34m:\u001b[0m\u001b[0;34m\u001b[0m\u001b[0;34m\u001b[0m\u001b[0m\n\u001b[0;32m--> 488\u001b[0;31m         raise ValueError(\n\u001b[0m\u001b[1;32m    489\u001b[0m             \"array must not contain infs or NaNs\")\n\u001b[1;32m    490\u001b[0m     \u001b[0;32mreturn\u001b[0m \u001b[0ma\u001b[0m\u001b[0;34m\u001b[0m\u001b[0;34m\u001b[0m\u001b[0m\n",
      "\u001b[0;31mValueError\u001b[0m: array must not contain infs or NaNs"
     ]
    }
   ],
   "source": [
    "# Directory with data:\n",
    "datadir = \"v0/snaps/\"\n",
    "\n",
    "\n",
    "\n",
    "# Import data:\n",
    "f = h5py.File(datadir+\"snapshot_010.hdf5\", \"r\")\n",
    "group = f[\"PartType1\"]\n",
    "data = group[\"Coordinates\"][()]\n",
    "\n",
    "\n",
    "\n",
    "# Some parameters:\n",
    "galx,galy,galz=data[:,0],data[:,1],data[:,2]\n",
    "galcen=[np.median(galx),np.median(galy),np.median(galz)]     # Galaxy center\n",
    "mp=(1e11)/(len(galx))                                        # Particle mass\n",
    "galcoords=[galx,galy,galz]\n",
    "\n",
    "\n",
    "\n",
    "# Centering coordinates, radial distance to center and :\n",
    "galcoords=np.array(galcoords) - np.resize(np.array(galcen),(3,1))\n",
    "galdist = []\n",
    "for i in range(len(galcoords[0])):\n",
    "    d=np.sqrt((galcoords[0,i]**2)+(galcoords[1,i]**2)+(galcoords[2,i]**2))\n",
    "    galdist.append(d)\n",
    "\n",
    "    \n",
    "    \n",
    "# Density profile:\n",
    "prof=[],[] \n",
    "Rbin=10\n",
    "Rins=0\n",
    "Rmax=np.amax(galdist)\n",
    "\n",
    "for n in range(2,40):\n",
    "    R1=Rins\n",
    "    if (R1>Rmax):\n",
    "        break\n",
    "    R2=n*Rbin\n",
    "    Npart=0\n",
    "    for i in range(len(galdist)):            # Loop that checks for parwticles between both radius and counts them.\n",
    "        if (galdist[i]>R1 and galdist[i]<R2):\n",
    "            Npart+=1\n",
    "    dens=Npart*mp/(1.25*pi*(R2**3-R1**3))\n",
    "    prof[0].append(R1)\n",
    "    prof[1].append(dens)\n",
    "    Rins=R2\n",
    "logprof=np.log10(prof)\n",
    "\n",
    "\n",
    "\n",
    "# Fitting to NFW:\n",
    "init_guesses=[10**8.5,10]\n",
    "r=10**logprof[0]\n",
    "popt,pcov=fit(func.logNFW,r,logprof[1],[10**8,10])\n",
    "\n",
    "\n",
    "\n",
    "# Plotting radial profile and fit:\n",
    "plt.figure(dpi=150)\n",
    "plt.plot(logprof[0],logprof[1],'k.',ms=1.5)\n",
    "plt.plot(logprof[0],func.logNFW(r,popt[0],popt[1]),'r-',alpha=0.5,linewidth=1)\n",
    "plt.savefig(\"v0_NFWfit.PNG\")\n",
    "print(\"Final state:\\n\"+\"rho_0 = \"+str(popt[0])+\"\\n\"+\"log(rho_0) = \"+str(np.log10(popt[0]))+\"\\nr_s = \"+str(popt[1]))\n",
    "\n",
    "\n",
    "#end"
   ]
  },
  {
   "cell_type": "code",
   "execution_count": 8,
   "metadata": {},
   "outputs": [
    {
     "data": {
      "text/plain": [
       "[2110394.5453985324,\n",
       " 48249.0774847009,\n",
       " 12388.27665147726,\n",
       " 5009.467061253099,\n",
       " 1399.1643348738053,\n",
       " 1002.5508226261123,\n",
       " 1054.75465244333,\n",
       " 469.39706718347014,\n",
       " 375.8640722465425,\n",
       " 76.93290300514579,\n",
       " 192.42915033780795,\n",
       " 108.59185882602668,\n",
       " 0.0,\n",
       " 0.0,\n",
       " 0.0,\n",
       " 124.67461882351654,\n",
       " 27.70923927606448,\n",
       " 99.18126930751023,\n",
       " 44.635917431556976,\n",
       " 40.38824884171809,\n",
       " 146.8769482030469,\n",
       " 0.0,\n",
       " 15.368008988957907,\n",
       " 0.0,\n",
       " 13.052173703077015,\n",
       " 12.085804885953134,\n",
       " 0.0,\n",
       " 10.449237133649262,\n",
       " 0.0,\n",
       " 27.371684945936856,\n",
       " 8.553843095298372,\n",
       " 0.0,\n",
       " 0.0,\n",
       " 14.261994340354665,\n",
       " 0.0,\n",
       " 19.112927866927638,\n",
       " 6.035740908912836,\n",
       " 5.726285337239319]"
      ]
     },
     "execution_count": 8,
     "metadata": {},
     "output_type": "execute_result"
    }
   ],
   "source": [
    "prof[1]"
   ]
  },
  {
   "cell_type": "code",
   "execution_count": null,
   "metadata": {},
   "outputs": [],
   "source": []
  }
 ],
 "metadata": {
  "kernelspec": {
   "display_name": "Python 3",
   "language": "python",
   "name": "python3"
  },
  "language_info": {
   "codemirror_mode": {
    "name": "ipython",
    "version": 3
   },
   "file_extension": ".py",
   "mimetype": "text/x-python",
   "name": "python",
   "nbconvert_exporter": "python",
   "pygments_lexer": "ipython3",
   "version": "3.8.10"
  }
 },
 "nbformat": 4,
 "nbformat_minor": 4
}
