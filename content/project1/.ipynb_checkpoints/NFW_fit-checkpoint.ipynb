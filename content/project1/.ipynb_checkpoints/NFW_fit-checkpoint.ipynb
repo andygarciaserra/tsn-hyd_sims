{
 "cells": [
  {
   "cell_type": "code",
   "execution_count": 9,
   "metadata": {},
   "outputs": [],
   "source": [
    "# Packages\n",
    "import h5py\n",
    "import numpy as np    \n",
    "import matplotlib.pyplot as plt\n",
    "from scipy.constants import pi\n",
    "from scipy.optimize import curve_fit\n",
    "import func as func\n",
    "\n",
    "# To quit warnings for showing up in cell outputs:\n",
    "import warnings\n",
    "warnings.filterwarnings('ignore')"
   ]
  },
  {
   "cell_type": "code",
   "execution_count": 8,
   "metadata": {},
   "outputs": [
    {
     "name": "stdout",
     "output_type": "stream",
     "text": [
      "FIT parameters:\n",
      "rho_0 = 10000000.0\n",
      "log(rho_0) = 7.0\n",
      "r_s = 10.0\n"
     ]
    },
    {
     "data": {
      "image/png": "[encoded data removed]",
      "text/plain": [
       "<Figure size 900x600 with 1 Axes>"
      ]
     },
     "metadata": {
      "needs_background": "light"
     },
     "output_type": "display_data"
    }
   ],
   "source": [
    "# Directory with data and output filename:\n",
    "datadir = 'data/hf_rot_n10000/'\n",
    "filename = 'NFW_hf_rot_n10000.png'\n",
    "savedir = 'results/nfw/'+filename\n",
    "\n",
    "\n",
    "\n",
    "# Import data:\n",
    "f = h5py.File(datadir+\"snapshot_027.hdf5\", \"r\")\n",
    "group = f[\"PartType1\"]\n",
    "data = group[\"Coordinates\"][()]\n",
    "\n",
    "\n",
    "\n",
    "# Some parameters:\n",
    "galx,galy,galz=data[:,0],data[:,1],data[:,2]\n",
    "galcen=[np.median(galx),np.median(galy),np.median(galz)]     # Galaxy center\n",
    "mp=(1e11)/(len(galx))                                        # Particle mass\n",
    "galcoords=[galx,galy,galz]\n",
    "\n",
    "\n",
    "\n",
    "# Centering coordinates, radial distance to center and :\n",
    "galcoords=np.array(galcoords) - np.resize(np.array(galcen),(3,1))\n",
    "galdist = []\n",
    "for i in range(len(galcoords[0])):\n",
    "    d=np.sqrt((galcoords[0,i]**2)+(galcoords[1,i]**2)+(galcoords[2,i]**2))\n",
    "    galdist.append(d)\n",
    "\n",
    "    \n",
    "\n",
    "# Density profile:\n",
    "prof=[],[] \n",
    "Rbin=1\n",
    "Rins=0\n",
    "Rmax=np.amax(galdist)\n",
    "\n",
    "for n in range(1,120):\n",
    "    R1=Rins\n",
    "    if (R1>Rmax):\n",
    "        break\n",
    "    R2=n*Rbin\n",
    "    Npart=0\n",
    "    for i in range(len(galdist)):            # Loop that checks for parwticles between both radius and counts them.\n",
    "        if (galdist[i]>R1 and galdist[i]<R2):\n",
    "            Npart+=1\n",
    "    dens=Npart*mp/(1.25*pi*(R2**3-R1**3))\n",
    "    if dens==0:\n",
    "        dens=1\n",
    "    prof[0].append(R1)\n",
    "    prof[1].append(dens)\n",
    "    Rins=R2\n",
    "\n",
    "pos=[]\n",
    "for i in range(len(prof[1])):\n",
    "    if prof[1][i]==1:\n",
    "        pos.append(i)\n",
    "\n",
    "dens=np.delete(prof[1],pos)\n",
    "rad=np.delete(prof[0],pos)\n",
    "\n",
    "\n",
    "\n",
    "# Fitting to NFW:\n",
    "p0=[10**7,10]\n",
    "r=rad\n",
    "popt,pcov=curve_fit(func.NFW,r,dens,p0,sigma=1/r)\n",
    "\n",
    "logr= np.log10(r)\n",
    "logdens = np.log10(dens)\n",
    "logNFW = np.log10(func.NFW(r,popt[0],popt[1]))\n",
    "\n",
    "\n",
    "\n",
    "# Plotting radial profile and fit:\n",
    "plt.figure(dpi=150)\n",
    "plt.plot(logr,logdens,'k.',ms=1.5)\n",
    "plt.plot(logr,logNFW,'r-',alpha=0.5,linewidth=1)\n",
    "plt.savefig(savedir)\n",
    "print(\"FIT parameters:\\n\"+\"rho_0 = \"+str(popt[0])+\"\\n\"+\"log(rho_0) = \"+str(np.log10(popt[0]))+\"\\nr_s = \"+str(popt[1]))\n",
    "\n",
    "\n",
    "\n",
    "#end"
   ]
  },
  {
   "cell_type": "code",
   "execution_count": null,
   "metadata": {},
   "outputs": [],
   "source": []
  }
 ],
 "metadata": {
  "kernelspec": {
   "display_name": "Python 3",
   "language": "python",
   "name": "python3"
  },
  "language_info": {
   "codemirror_mode": {
    "name": "ipython",
    "version": 3
   },
   "file_extension": ".py",
   "mimetype": "text/x-python",
   "name": "python",
   "nbconvert_exporter": "python",
   "pygments_lexer": "ipython3",
   "version": "3.8.10"
  }
 },
 "nbformat": 4,
 "nbformat_minor": 4
}
