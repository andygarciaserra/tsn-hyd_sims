{
 "cells": [
  {
   "cell_type": "code",
   "execution_count": 4,
   "metadata": {},
   "outputs": [],
   "source": [
    "# Packages\n",
    "import h5py\n",
    "import numpy as np    \n",
    "import matplotlib.pyplot as plt\n",
    "from scipy.optimize import curve_fit\n",
    "import func as func\n",
    "from pylab import * \n",
    "\n",
    "# To quit warnings for showing up in cell outputs:\n",
    "import warnings\n",
    "warnings.filterwarnings('ignore')\n"
   ]
  },
  {
   "cell_type": "code",
   "execution_count": 14,
   "metadata": {},
   "outputs": [
    {
     "data": {
      "text/plain": [
       "'\\n#VALUE OUTPUTS:\\n    #NFW fit info:\\nprint(\"-------------------\\n\"+\"NFW fit parameters:\\n\"+\"-------------------\\n\"+\\n      \"log(rho_0) = \"+str(\\'{:.2f}\\'.format(round(np.log10(poptNFW[0]),3)))+\"\\nr_s = \"+\\n      str(\\'{:.2f}\\'.format(round(poptNFW[1],3)))+\"\\n\")\\n\\n    #GSP fit info:\\nprint(\"-------------------\\n\"+\"GDP fit parameters:\\n\"+\"-------------------\\n\"+\\n      \\'log(rho_0) = \\'+str(round(np.log10(poptGDP[0]),2))+\"\\nr_s = \"+\\n      str(\\'{:.2f}\\'.format(round(poptGDP[1],3)))+\"\\nalpha = \"+str(\\'{:.2f}\\'.format(round(poptGDP[2],3)))+\"\\nbeta = \"+\\n      str(\\'{:.2f}\\'.format(round(poptGDP[3],3)))+\"\\ngamma = \"+str(\\'{:.2f}\\'.format(round(poptGDP[4],3)))+\"\\n\")\\n'"
      ]
     },
     "execution_count": 14,
     "metadata": {},
     "output_type": "execute_result"
    },
    {
     "data": {
      "image/png": "[encoded data removed]",
      "text/plain": [
       "<Figure size 432x288 with 1 Axes>"
      ]
     },
     "metadata": {
      "needs_background": "light"
     },
     "output_type": "display_data"
    }
   ],
   "source": [
    "#SETTING UP:\n",
    "    # Directory with data and output filename:\n",
    "datadir = 'data/gassphere/'\n",
    "filename = 'fit_gassphere_n1000.png'\n",
    "savedir = 'results/nfw/'+filename\n",
    "#plot_title = 'Hubble flow and n$_{part}$=1000'\n",
    "\n",
    "    # Import data:\n",
    "f = h5py.File(datadir+\"snapshot_000.hdf5\", \"r\")\n",
    "group = f[\"PartType0\"]\n",
    "data = group[\"Coordinates\"][()]\n",
    "\n",
    "\n",
    "\n",
    "\n",
    "#CALCULATIUNG DENSITY PROFILE:\n",
    "    # Galaxy center and centered coordinates:\n",
    "galx,galy,galz=data[:,0],data[:,1],data[:,2]\n",
    "galcen=[np.median(galx),np.median(galy),np.median(galz)]     # Galaxy center\n",
    "mp=(1e11)/(len(galx))                                        # Particle mass\n",
    "galcoords=np.array([galx,galy,galz]) - np.resize(np.array(galcen),(3,1))\n",
    "galdist = []\n",
    "for i in range(len(galcoords[0])):\n",
    "    d=np.sqrt((galcoords[0,i]**2)+(galcoords[1,i]**2)+(galcoords[2,i]**2))\n",
    "    galdist.append(d)\n",
    "\n",
    "    # Density profile:\n",
    "Rbin=0.02\n",
    "Rins=0.02\n",
    "r,dens = func.dens_prof(Rbin,Rins,galdist,mp)\n",
    "logr = np.log10(r)\n",
    "logdens = np.log10(dens)\n",
    "\n",
    "\n",
    "\n",
    "\n",
    "\"\"\"\n",
    "#FITTING:\n",
    "    # Fitting density profile to NFW:\n",
    "p0=[10**6.5,12]\n",
    "poptNFW, pcov=curve_fit(func.NFW,r,dens,p0,sigma=1/r)\n",
    "logNFW = np.log10(func.NFW(r,poptNFW[0],poptNFW[1]))\n",
    "\n",
    "    # Fitting density profile to GDP: (General Density Profile, 3 extra parameters in use)\n",
    "p0=[poptNFW[0],poptNFW[1],1,3,1]\n",
    "poptGDP, pcov=curve_fit(func.GDP,r,dens,p0,sigma=1/r,bounds=(0, [10**10,20,6,6,6]))\n",
    "logGDP = np.log10(func.GDP(r,poptGDP[0],poptGDP[1],poptGDP[2],poptGDP[3],poptGDP[4]))\n",
    "\n",
    "    # Fitting to exponential at central and outer regions:\n",
    "pos=func.find_nearest(logr,np.log10(poptNFW[1]))\n",
    "if pos==0:\n",
    "    m,b = polyfit(logr,logdens,1)\n",
    "    y = m*logr + b\n",
    "else:\n",
    "    logr1=logr[:pos] ; logr2=logr[pos:]\n",
    "    logdens1=logdens[:pos] ; logdens2=logdens[pos:]\n",
    "    m1,b1 = polyfit(logr1,logdens1,1) ; m2,b2 = polyfit(logr2,logdens2,1)\n",
    "    y1 = m1*logr1 + b1 ; y2 = m2*logr2 + b2\n",
    "\"\"\"\n",
    "\n",
    "sqr = np.log10(1/r)\n",
    "plt.plot(r,dens)\n",
    "#plt.plot(r,sqr)\n",
    "\n",
    "\"\"\"\"\n",
    "#PLOTTING:\n",
    "fig = plt.figure(figsize=(4,6),dpi=150)\n",
    "#fig.suptitle(plot_title)\n",
    "\n",
    "    #1.Plotting radial profile and models fits:\n",
    "ax = fig.add_subplot(2, 1, 1)\n",
    "ax.plot(logr,logNFW,'m-',label='NFW fit',alpha=1,linewidth=1.3)\n",
    "ax.plot(logr,logGDP,'c-',label='GDP fit',alpha=1,linewidth=1.3)\n",
    "ax.plot(logr,logdens,'k.',ms=3,alpha=0.7)\n",
    "#ax.set_xlabel('log(r [kpc])')\n",
    "ax.set_ylabel('log('+r'$\\rho$ [M$_\\odot$kpc$^{-3}}$]'+')')\n",
    "ax.legend(fontsize=9,loc=3)\n",
    "\n",
    "    #2.Plotting exponential inner and outer regions fit:\n",
    "ax = fig.add_subplot(2, 1, 2)\n",
    "ax.plot(logr,logdens,'k.',ms=3,alpha=0.7)\n",
    "if pos==0:\n",
    "    ax.plot(logr,y,'-',color='orange',linewidth=1.3,label='General slope')\n",
    "    ax.text(logr[round(len(logr)/4)],y[round(len(y)/3)]+1,r'$\\alpha$='+str('{:.2f}'.format(round(m,2))),color='orange')\n",
    "else:\n",
    "    ax.plot(logr1,y1,'-',color='orange',linewidth=1.3,label='Inner slope')\n",
    "    ax.text(logr1[round(len(logr1)/3)],y1[round(len(y1)/2)]+0.6,r'$\\alpha$='+str('{:.2f}'.format(round(m1,2))),color='orange')\n",
    "    ax.plot(logr2,y2,'-',color='seagreen',linewidth=1.3,label='Outer slope')\n",
    "    ax.text(logr2[round(len(logr2)/4)],y2[round(len(y1)/3)]-0.6,r'$\\beta$='+str('{:.2f}'.format(round(m2,2))),color='seagreen')\n",
    "    ax.vlines(logr[pos],2,logdens[pos],color='black',linewidth=0.65,alpha=0.5)\n",
    "    ax.text(logr[pos]-0.05,logdens[round(len(logdens)/3)],'r$_s$='+str('{:.2f}'.format(round(poptNFW[1],3))),size=10,ha='right',alpha=0.5)\n",
    "ax.set_xlabel('log(r [kpc])')\n",
    "ax.set_ylabel('log('+r'$\\rho$ [M$_\\odot$kpc$^{-3}}$]'+')')\n",
    "ax.legend(fontsize=9,loc=3)\n",
    "\n",
    "plt.savefig(savedir,layout='tight')\n",
    "plt.show()\n",
    "\"\"\"\n",
    "\n",
    "\n",
    "\n",
    "\"\"\"\n",
    "#VALUE OUTPUTS:\n",
    "    #NFW fit info:\n",
    "print(\"-------------------\\n\"+\"NFW fit parameters:\\n\"+\"-------------------\\n\"+\n",
    "      \"log(rho_0) = \"+str('{:.2f}'.format(round(np.log10(poptNFW[0]),3)))+\"\\nr_s = \"+\n",
    "      str('{:.2f}'.format(round(poptNFW[1],3)))+\"\\n\")\n",
    "\n",
    "    #GSP fit info:\n",
    "print(\"-------------------\\n\"+\"GDP fit parameters:\\n\"+\"-------------------\\n\"+\n",
    "      'log(rho_0) = '+str(round(np.log10(poptGDP[0]),2))+\"\\nr_s = \"+\n",
    "      str('{:.2f}'.format(round(poptGDP[1],3)))+\"\\nalpha = \"+str('{:.2f}'.format(round(poptGDP[2],3)))+\"\\nbeta = \"+\n",
    "      str('{:.2f}'.format(round(poptGDP[3],3)))+\"\\ngamma = \"+str('{:.2f}'.format(round(poptGDP[4],3)))+\"\\n\")\n",
    "\"\"\"\n",
    "\n",
    "\n",
    "\n"
   ]
  },
  {
   "cell_type": "code",
   "execution_count": null,
   "metadata": {},
   "outputs": [],
   "source": []
  }
 ],
 "metadata": {
  "kernelspec": {
   "display_name": "Python 3",
   "language": "python",
   "name": "python3"
  },
  "language_info": {
   "codemirror_mode": {
    "name": "ipython",
    "version": 3
   },
   "file_extension": ".py",
   "mimetype": "text/x-python",
   "name": "python",
   "nbconvert_exporter": "python",
   "pygments_lexer": "ipython3",
   "version": "3.8.10"
  }
 },
 "nbformat": 4,
 "nbformat_minor": 4
}
