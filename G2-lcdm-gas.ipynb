{
 "cells": [
  {
   "cell_type": "code",
   "execution_count": 1,
   "metadata": {},
   "outputs": [],
   "source": [
    "#Packages\n",
    "import h5py\n",
    "import os\n",
    "import numpy as np    \n",
    "import matplotlib.pyplot as plt\n",
    "from scipy.constants import pi\n",
    "from scipy.optimize import curve_fit as fit\n",
    "import func as func"
   ]
  },
  {
   "cell_type": "markdown",
   "metadata": {},
   "source": [
    "### PLotting 3D:"
   ]
  },
  {
   "cell_type": "code",
   "execution_count": null,
   "metadata": {
    "scrolled": false
   },
   "outputs": [],
   "source": [
    "#Directory with data:\n",
    "datadir = \"G2-lcdm-gas/\"\n",
    "\n",
    "files = os.listdir(datadir+\".\")\n",
    "files.sort()\n",
    "for file in files:    #Importing data (Particle Type 1 - dark matter, Particle Type 2 - baryonic matter):\n",
    "    f = h5py.File(datadir+file, \"r\")\n",
    "    group = f[\"PartType0\"]\n",
    "    data = group[\"Coordinates\"][()]\n",
    "    vel = group[\"Velocities\"][()]\n",
    "    \n",
    "    #Plotting the initial conditions of both galaxies:\n",
    "    fig = plt.figure(dpi=200)\n",
    "    ax = plt.axes(projection='3d')\n",
    "    plot = ax.scatter3D(data[:,0],data[:,1],data[:,2],'k.',s=0.5,c=vel[:,0],cmap=\"viridis\")\n",
    "    cbar = fig.colorbar(plot, ax = ax)\n",
    "    cbar.set_label('Vx', rotation=0)\n",
    "    plt.show()"
   ]
  },
  {
   "cell_type": "code",
   "execution_count": null,
   "metadata": {},
   "outputs": [],
   "source": [
    "datadir = \"G2-lcdm-gas/\"\n",
    "files = os.listdir(datadir+\".\")\n",
    "files.sort()\n",
    "\n",
    "f = h5py.File(datadir+file, \"r\")\n",
    "for key in f.keys():\n",
    "    print(key)"
   ]
  },
  {
   "cell_type": "code",
   "execution_count": null,
   "metadata": {},
   "outputs": [],
   "source": [
    "np.shape(data)"
   ]
  },
  {
   "cell_type": "code",
   "execution_count": null,
   "metadata": {},
   "outputs": [],
   "source": []
  }
 ],
 "metadata": {
  "kernelspec": {
   "display_name": "Python 3",
   "language": "python",
   "name": "python3"
  },
  "language_info": {
   "codemirror_mode": {
    "name": "ipython",
    "version": 3
   },
   "file_extension": ".py",
   "mimetype": "text/x-python",
   "name": "python",
   "nbconvert_exporter": "python",
   "pygments_lexer": "ipython3",
   "version": "3.8.10"
  }
 },
 "nbformat": 4,
 "nbformat_minor": 4
}
