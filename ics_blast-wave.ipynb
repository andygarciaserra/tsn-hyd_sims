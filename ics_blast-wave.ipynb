{
 "cells": [
  {
   "cell_type": "code",
   "execution_count": 5,
   "metadata": {},
   "outputs": [],
   "source": [
    "import os\n",
    "import numpy as np\n",
    "import matplotlib.pyplot as plt\n",
    "import h5py\n",
    "import sys"
   ]
  },
  {
   "cell_type": "code",
   "execution_count": 8,
   "metadata": {},
   "outputs": [
    {
     "name": "stdout",
     "output_type": "stream",
     "text": [
      "rm: cannot remove 'SPH-ics.hdf5': No such file or directory\r\n"
     ]
    }
   ],
   "source": [
    "#Creating coordinates vector:\n",
    "long=1\n",
    "n=21\n",
    "N=n**3\n",
    "m=1/(int(N)**3)\n",
    "Mtotal=N*m\n",
    "\n",
    "l1=np.linspace(-long/2,long/2 + 0.005,n)\n",
    "l2=np.linspace(-long/2,long/2 + 0.005,n)\n",
    "l3=np.linspace(-long/2,long/2 + 0.005,n)\n",
    "\n",
    "x,y,z=np.meshgrid(l1,l2,l3)\n",
    "\n",
    "x.reshape(N,1)\n",
    "y.reshape(N,1)\n",
    "z.reshape(N,1)\n",
    "\n",
    "Coordinates = np.concatenate((x,y,z),axis = 1)\n",
    "Coordinates = Coordinates.reshape(N,3)\n",
    "\n",
    "\n",
    "#Creating velocities vector:\n",
    "Velocities = np.zeros_like(Coordinates)\n",
    "\n",
    "\n",
    "\n",
    "#Creating IDs vector:\n",
    "ID = np.linspace(1,N,N,dtype=int)\n",
    "ID = ID.reshape(N,)\n",
    "\n",
    "\n",
    "#Energy vector:\n",
    "Energy=np.zeros_like(ID)+1e-3\n",
    "Energy[int((N-1)/2)]=1/Mtotal\n",
    "\n",
    "#Create hdf5\n",
    "filename = 'SPH-ics.hdf5'\n",
    "!rm SPH-ics.hdf5\n",
    "\n",
    "#Create File\n",
    "file = h5py.File(filename,'w')\n",
    "\n",
    "#Create Group\n",
    "header = file.create_group(\"Header\")\n",
    "PartType1 = file.create_group(\"PartType0\")\n",
    "\n",
    "coordsDSET = file.create_dataset(\"/PartType0/Coordinates\", (N,3), dtype =  h5py.h5t.IEEE_F32LE)\n",
    "IDsDSET = file.create_dataset(\"/PartType0/ParticleIDs\", (N,), dtype =   h5py.h5t.STD_U32LE)\n",
    "velsDSET = file.create_dataset(\"/PartType0/Velocities\", (N,3), dtype =  h5py.h5t.IEEE_F32LE)\n",
    "engyDSET = file.create_dataset(\"/PartType0/InternalEnergy\", (N,), dtype =  h5py.h5t.IEEE_F32LE)\n",
    "\n",
    "coordsDSET[...] = Coordinates\n",
    "IDsDSET[...] = ID\n",
    "velsDSET[...] = Velocities\n",
    "engyDSET[...] = Energy\n",
    "\n",
    "nparts = np.zeros(3)\n",
    "nparts[0] = N\n",
    "header.attrs['NumPart_ThisFile']    = nparts\n",
    "\n",
    "massvec = np.zeros(3)\n",
    "massvec[0] = Mtotal/N\n",
    "\n",
    "header.attrs['MassTable']           = massvec\n",
    "header.attrs['Time']                = 0\n",
    "header.attrs['Redshift']            = 15\n",
    "header.attrs['NumPart_Total']       = nparts\n",
    "header.attrs['NumFilesPerSnapshot'] = 1\n",
    "header.attrs['BoxSize']             = 1.0\n",
    "header.attrs['Omega0']              = 1.0\n",
    "header.attrs['OmegaLambdda']        = 0.\n",
    "header.attrs['HubbleParam']         = 0.7\n",
    "header.attrs['Flag_Entropy_ICs']    = 0\n",
    "header.attrs['NumPart_Total_HighWord'] = np.zeros(3)\n",
    "\n",
    "# Close the file before exiting\n",
    "#\n",
    "file.close()"
   ]
  },
  {
   "cell_type": "code",
   "execution_count": null,
   "metadata": {},
   "outputs": [],
   "source": []
  }
 ],
 "metadata": {
  "kernelspec": {
   "display_name": "Python 3",
   "language": "python",
   "name": "python3"
  },
  "language_info": {
   "codemirror_mode": {
    "name": "ipython",
    "version": 3
   },
   "file_extension": ".py",
   "mimetype": "text/x-python",
   "name": "python",
   "nbconvert_exporter": "python",
   "pygments_lexer": "ipython3",
   "version": "3.8.10"
  }
 },
 "nbformat": 4,
 "nbformat_minor": 4
}
