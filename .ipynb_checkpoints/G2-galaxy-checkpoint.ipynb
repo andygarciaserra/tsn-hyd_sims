{
 "cells": [
  {
   "cell_type": "markdown",
   "metadata": {},
   "source": [
    "### Packages"
   ]
  },
  {
   "cell_type": "code",
   "execution_count": 11,
   "metadata": {},
   "outputs": [],
   "source": [
    "# Packages\n",
    "import h5py    \n",
    "import numpy as np    \n",
    "import matplotlib.pyplot as plt\n",
    "from scipy.constants import pi\n",
    "from scipy.optimize import curve_fit as fit\n",
    "import func as func\n",
    "\n",
    "# Directory with data:\n",
    "datadir = \"output/\"\n",
    "\n",
    "# To quit warnings for showing up in cell outputs:\n",
    "import warnings\n",
    "warnings.filterwarnings('ignore')"
   ]
  },
  {
   "cell_type": "markdown",
   "metadata": {},
   "source": [
    "### Importing data from Gadget output\n",
    "In this cell we import the DM data from the Gadget simulation output, plotting it to differenciate both galaxies and split them into two positional vectors. With this information we can then make a density profile for both and fit the NFW profile."
   ]
  },
  {
   "cell_type": "code",
   "execution_count": null,
   "metadata": {
    "scrolled": false
   },
   "outputs": [],
   "source": [
    "#Importing data (Particle Type 1 - dark matter, Particle Type 2 - baryonic matter):\n",
    "f = h5py.File(datadir+\"snapshot_000.hdf5\", \"r\")\n",
    "group = f[\"PartType1\"]\n",
    "\n",
    "    #Checkout what keys are inside that group.\n",
    "for key in group.keys():\n",
    "    print(key)\n",
    "    \n",
    "data = group[\"Coordinates\"][()]\n",
    "\n",
    "#Plotting the initial conditions of both galaxies:\n",
    "plt.figure(dpi=150)\n",
    "plt.plot(data[:,0],data[:,1],'k.',ms=1)\n",
    "\n",
    "#Splitting the coordinate vector for both galaxies:\n",
    "gal1x,gal1y,gal1z,gal2x,gal2y,gal2z = [],[],[],[],[],[]\n",
    "for i in range(0,(len(data[:,0])-1)):\n",
    "    if (data[i,0]>0):\n",
    "        gal1x.append(data[i,0])\n",
    "        gal1y.append(data[i,1])\n",
    "        gal1z.append(data[i,2])\n",
    "    if (data[i,0]<0):\n",
    "        gal2x.append(data[i,0])\n",
    "        gal2y.append(data[i,1])\n",
    "        gal2z.append(data[i,2])\n",
    "        \n",
    "gal1coords=[gal1x,gal1y,gal1z]\n",
    "gal2coords=[gal2x,gal2y,gal2z]\n",
    "\n",
    "#Plotting both galaxies separately just in case:\n",
    "plt.figure(dpi=150)\n",
    "plt.plot(gal1coords[0],gal1coords[1],'k.',ms=1)\n",
    "plt.plot(gal2coords[0],gal2coords[1],'r.',ms=1)\n",
    "\n",
    "#Looking for the center of each galaxy and plot checking:\n",
    "gal1cen = [np.median(gal1x),np.median(gal1y),np.median(gal1z)]\n",
    "gal2cen = [np.median(gal2x),np.median(gal2y),np.median(gal2z)]\n",
    "\n",
    "plt.plot(gal1cen[0],gal1cen[1],'bo',ms=3)\n",
    "plt.plot(gal2cen[0],gal2cen[1],'bo',ms=3)\n",
    "\n",
    "    #Particle masses for each galaxy (assuming MW mass 10^12 Msol):\n",
    "mp1=(10**12)/(len(gal1coords[0]))                                   #keep in mind this are not real particles, are huge groups of \"real particles\".\n",
    "mp2=(10**12)/(len(gal2coords[0]))\n",
    "\n",
    "#Centering coordinates to have the center of each galaxy in 0,0,0:\n",
    "\n",
    "gal1coords=np.array(gal1coords) - np.resize(np.array(gal1cen),(3,1))\n",
    "gal2coords=np.,galy,galzarray(gal2coords) - np.resize(np.array(gal2cen),(3,1))\n",
    "\n",
    "plt.figure(dpi=150)\n",
    "plt.plot(gal1coords[0],gal1coords[1],'k.',ms=1,label='Galaxy 1')\n",
    "plt.plot(gal2coords[0],gal2coords[1],'r.',ms=1,label='Galaxy 2')\n",
    "plt.legend()\n",
    "\n",
    "\n",
    "#Calculating radial distance to center of the galaxy for each particle:\n",
    "gal1dist = []\n",
    "gal2dist = []\n",
    "\n",
    "for i in range(0,(len(gal1coords[0])-1)):\n",
    "    d=np.sqrt((gal1coords[0,i]**2)+(gal1coords[1,i]**2)+(gal1coords[2,i]**2))\n",
    "    gal1dist.append(d)\n",
    "for i in range(0,(len(gal2coords[0])-1)):\n",
    "    d=np.sqrt((gal2coords[0,i]**2)+(gal2coords[1,i]**2)+(gal2coords[2,i]**2))\n",
    "    gal2dist.append(d)\n",
    "\n",
    "#After you are done\n",
    "f.close()"
   ]
  },
  {
   "cell_type": "markdown",
   "metadata": {},
   "source": [
    "### Density profile\n",
    "Now that we have the data splitted into the two galaxies we can make the density profiles by making a for loop run for different radial bins and counter the number of particles for each bin. THen we will divide this particle number by the volume of the shell containing them and multiply by the particle mass, which is basically the mass of the galaxy (approximated to the MIlky Way mass 10^12 Msol) divided by the number of particles, which is the length of the positional vector. Once we have the number of particles at different radial distances we can then plot this relation with a logarithm to have our final profile."
   ]
  },
  {
   "cell_type": "code",
   "execution_count": null,
   "metadata": {},
   "outputs": [],
   "source": [
    "# As we see, density is not well presented because for same radius bins the variation in volume is not constant.\n",
    "# We have to make sure each new bin we take holds the same volume as the bin before. To do this we will define\n",
    "# an initial volume Vbin and replicate it for each bin. We will choose a distance of 1 to the center for it.\n",
    "\n",
    "R1max=np.amax(gal1dist)\n",
    "R2max=np.amax(gal2dist)\n",
    "\n",
    "\n",
    "\n",
    "#GALAXY 1:\n",
    "prof1=[],[]                  # Profile vector with two components, radial distance and mass at this distance.\n",
    "Rbin=1\n",
    "Rins=1\n",
    "\n",
    "for n in range(2,100):\n",
    "    R1=Rins\n",
    "    if (R1>R1max):\n",
    "        break\n",
    "    R2=n*Rbin\n",
    "    Npart=0\n",
    "    for i in range(0,len(gal1dist)):            # Loop that checks for parwticles between both radius and counts them.\n",
    "        if (gal1dist[i]>R1 and gal1dist[i]<R2):\n",
    "            Npart+=1\n",
    "    dens1=Npart/(1.25*pi*(R2**3-R1**3))\n",
    "    prof1[0].append(R1)\n",
    "    prof1[1].append(dens1*mp1)\n",
    "    Rins=R2\n",
    "\n",
    "logprof1=np.log10(prof1)    \n",
    "\n",
    "\n",
    "    \n",
    "#GALAXY 2:\n",
    "prof2=[],[]                  # Profile vector with two components, radial distance and mass at this distance.\n",
    "Rbin=1\n",
    "Rins=1\n",
    "\n",
    "for n in range(2,100):\n",
    "    R1=Rins\n",
    "    if (R1>R2max):\n",
    "        break\n",
    "    R2=n*Rbin\n",
    "    Npart=0\n",
    "    for i in range(0,len(gal2dist)):            # Loop that checks for parwticles between both radius and counts them.\n",
    "        if (gal2dist[i]>R1 and gal2dist[i]<R2):\n",
    "            Npart+=1\n",
    "    dens2=Npart/(1.25*pi*(R2**3-R1**3))\n",
    "    prof2[0].append(R1)\n",
    "    prof2[1].append(dens2*mp2)\n",
    "    Rins=R2\n",
    "\n",
    "logprof2=np.log10(prof2)\n",
    "\n",
    "\n",
    "\n",
    "#Plotting radial profiles:\n",
    "plt.figure(dpi=150)\n",
    "plt.plot(logprof1[0],logprof1[1],'k.',ms=1)\n",
    "\n",
    "plt.figure(dpi=150)\n",
    "plt.plot(logprof2[0],logprof2[1],'k.',ms=1)"
   ]
  },
  {
   "cell_type": "markdown",
   "metadata": {},
   "source": [
    "### Profile fitting to NFW density profile\n",
    "As we know, galaxy DM profiles tend to follow a Navarro-Frenk-White density profile, which relates density and radius as:\n",
    "\n",
    "$$\n",
    "    \\rho(r)= \\frac{\\rho_0}{\\left(\\frac{r}{r_s}\\right)\\cdot \\left(1+\\frac{r}{r_s}\\right)^2}\n",
    "$$\n",
    "\n",
    "So, we will basically define this profile depending on the scale variables $\\rho_0$ and $r_s$ in a separate file named <tt>func.py</tt> and fit this profile to both density profiles using <tt>curve_fit</tt> module."
   ]
  },
  {
   "cell_type": "code",
   "execution_count": null,
   "metadata": {
    "scrolled": false
   },
   "outputs": [],
   "source": [
    "#GALAXY 1:\n",
    "init_guesses=[10**8,10]\n",
    "r=10**logprof1[0]\n",
    "popt,pcov=fit(func.logNFW,r,logprof1[1],[10**8,10])\n",
    "#Plotting radial profile and fit:\n",
    "plt.figure(dpi=150)\n",
    "plt.plot(logprof1[0],logprof1[1],'k.',ms=1.5)\n",
    "plt.plot(logprof1[0],func.logNFW(r,popt[0],popt[1]),'r-',alpha=0.5,linewidth=1)\n",
    "print(\"GALAXY 1:\\n\"+\"rho_0 = \"+str(popt[0])+\"\\n\"+\"log(rho_0) = \"+str(np.log10(popt[0]))+\"\\nr_s = \"+str(popt[1])+\"\\n\")\n",
    "\n",
    "\n",
    "\n",
    "#GALAXY 2:\n",
    "init_guesses=[10**8,10]\n",
    "r=10**logprof2[0]\n",
    "popt,pcov=fit(func.logNFW,r,logprof2[1],init_guesses)\n",
    "#Plotting radial profile and fit:\n",
    "plt.figure(dpi=150)\n",
    "plt.plot(logprof2[0],logprof2[1],'k.',ms=1.5)\n",
    "plt.plot(logprof2[0],func.logNFW(r,popt[0],popt[1]),'r-',alpha=0.5,linewidth=1)\n",
    "print(\"GALAXY 2:\\n\"+\"rho_0 = \"+str(popt[0])+\"\\n\"+\"log(rho_0) = \"+str(np.log10(popt[0]))+\"\\nr_s = \"+str(popt[1]))\n"
   ]
  },
  {
   "cell_type": "markdown",
   "metadata": {},
   "source": [
    "### Density profile of final snapshot:\n",
    "Now we will make a longer simulation of the two collinding galaxies and will do the same process of the density profile and the NFW fitting."
   ]
  },
  {
   "cell_type": "code",
   "execution_count": 14,
   "metadata": {},
   "outputs": [
    {
     "name": "stdout",
     "output_type": "stream",
     "text": [
      "MERGED GALAXY:\n",
      "rho_0 = 23694562.24409562\n",
      "log(rho_0) = 7.374648689539751\n",
      "r_s = 11.376594451305229\n"
     ]
    },
    {
     "data": {
      "image/png": "[encoded data removed]",
      "text/plain": [
       "<Figure size 900x600 with 1 Axes>"
      ]
     },
     "metadata": {
      "needs_background": "light"
     },
     "output_type": "display_data"
    }
   ],
   "source": [
    "# Import data:\n",
    "f = h5py.File(datadir+\"snapshot_020.hdf5\", \"r\")\n",
    "group = f[\"PartType1\"]\n",
    "data = group[\"Coordinates\"][()]\n",
    "\n",
    "\n",
    "\n",
    "#SOme parameters:\n",
    "galx,galy,galz=data[:,0],data[:,1],data[:,2]\n",
    "galcen=[np.median(galx),np.median(galy),np.median(galz)]     # Galaxy center\n",
    "mp=(10**12)/(len(galx))                                      # Particle mass\n",
    "galcoords=[galx,galy,galz]\n",
    "\n",
    "\n",
    "\n",
    "#Centering coordinates, radial distance to center and :\n",
    "galcoords=np.array(galcoords) - np.resize(np.array(galcen),(3,1))\n",
    "galdist = []\n",
    "for i in range(len(galcoords[0])):\n",
    "    d=np.sqrt((galcoords[0,i]**2)+(galcoords[1,i]**2)+(galcoords[2,i]**2))\n",
    "    galdist.append(d)\n",
    "\n",
    "    \n",
    "    \n",
    "#Density profile:\n",
    "prof=[],[] \n",
    "Rbin=1\n",
    "Rins=1\n",
    "Rmax=np.amax(galdist)\n",
    "\n",
    "for n in range(2,100):\n",
    "    R1=Rins\n",
    "    if (R1>Rmax):\n",
    "        break\n",
    "    R2=n*Rbin\n",
    "    Npart=0\n",
    "    for i in range(len(galdist)):            # Loop that checks for parwticles between both radius and counts them.\n",
    "        if (galdist[i]>R1 and galdist[i]<R2):\n",
    "            Npart+=1\n",
    "    dens=Npart/(1.25*pi*(R2**3-R1**3))\n",
    "    prof[0].append(R1)\n",
    "    prof[1].append(dens*mp)\n",
    "    Rins=R2\n",
    "logprof=np.log10(prof)\n",
    "\n",
    "\n",
    "\n",
    "#Fitting to NFW:\n",
    "init_guesses=[10**8.5,10]\n",
    "r=10**logprof[0]\n",
    "popt,pcov=fit(func.logNFW,r,logprof[1],[10**8,10])\n",
    "#Plotting radial profile and fit:\n",
    "plt.figure(dpi=150)\n",
    "plt.plot(logprof[0],logprof[1],'k.',ms=1.5)\n",
    "plt.plot(logprof[0],func.logNFW(r,popt[0],popt[1]),'r-',alpha=0.5,linewidth=1)\n",
    "plt.savefig(\"merged_NFWfit.PNG\")\n",
    "print(\"MERGED GALAXY:\\n\"+\"rho_0 = \"+str(popt[0])+\"\\n\"+\"log(rho_0) = \"+str(np.log10(popt[0]))+\"\\nr_s = \"+str(popt[1]))"
   ]
  },
  {
   "cell_type": "code",
   "execution_count": null,
   "metadata": {},
   "outputs": [],
   "source": []
  }
 ],
 "metadata": {
  "kernelspec": {
   "display_name": "Python 3",
   "language": "python",
   "name": "python3"
  },
  "language_info": {
   "codemirror_mode": {
    "name": "ipython",
    "version": 3
   },
   "file_extension": ".py",
   "mimetype": "text/x-python",
   "name": "python",
   "nbconvert_exporter": "python",
   "pygments_lexer": "ipython3",
   "version": "3.8.10"
  }
 },
 "nbformat": 4,
 "nbformat_minor": 4
}
