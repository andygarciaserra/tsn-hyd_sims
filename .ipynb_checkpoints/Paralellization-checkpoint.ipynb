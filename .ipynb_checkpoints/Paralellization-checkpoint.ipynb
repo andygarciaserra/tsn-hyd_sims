{
 "cells": [
  {
   "cell_type": "code",
   "execution_count": 5,
   "metadata": {},
   "outputs": [],
   "source": [
    "#Packages\n",
    "import h5py\n",
    "import os\n",
    "import numpy as np    \n",
    "import matplotlib.pyplot as plt\n",
    "from scipy.constants import pi\n",
    "from scipy.optimize import curve_fit as fit\n",
    "import func as func\n",
    "import random\n",
    "from tqdm import tqdm\n",
    "from threading import Thread\n",
    "from time import time,sleep"
   ]
  },
  {
   "cell_type": "code",
   "execution_count": null,
   "metadata": {},
   "outputs": [],
   "source": [
    "datadir = \"G2-lcdm-gas/\"\n",
    "files = os.listdir(datadir+\".\")\n",
    "files.sort()\n",
    "\n",
    "f = h5py.File(datadir+\"snapshot_004.hdf5\", \"r\")\n",
    "group = f[\"PartType0\"]\n",
    "data = group[\"Coordinates\"][()]\n",
    "dmax=np.sqrt(3)*50000\n",
    "\n",
    "hist=[]\n",
    "hist=np.array(hist)\n",
    "\n",
    "part=30000     #Number of particles to loop distances:\n",
    "\n",
    "for j in tqdm(range(part)):\n",
    "    d=[]\n",
    "    for i in range(1,len(data)):\n",
    "        r=func.distance(data[j,0],data[i,0],data[j,1],data[i,1],data[j,2],data[i,2])\n",
    "        d=np.append(d,r)\n",
    "    output=np.histogram(d,bins=100,range=(0,dmax))\n",
    "    counts=output[0]\n",
    "    n=np.array(counts)\n",
    "    hist=np.concatenate((hist,counts),axis=0)\n",
    "hist=np.split(hist,part)"
   ]
  },
  {
   "cell_type": "code",
   "execution_count": 13,
   "metadata": {},
   "outputs": [
    {
     "name": "stdout",
     "output_type": "stream",
     "text": [
      "Tomó 10.010006427764893 segundos.\n",
      "Tomó 0.006918191909790039 segundos.\n"
     ]
    }
   ],
   "source": [
    "threads = []\n",
    "start = time()\n",
    "for _ in range(10):\n",
    "    sleep(1)\n",
    "print('Tomó {} segundos.'.format(time() - start))\n",
    "\n",
    "ahora = time()\n",
    "for t in range(10):\n",
    "    t = Thread(target=sleep, args=(1,))\n",
    "    t.start()\n",
    "\n",
    "for t in threads:\n",
    "    t.join()\n",
    "print('Tomó {} segundos.'.format(time() - ahora))"
   ]
  },
  {
   "cell_type": "code",
   "execution_count": null,
   "metadata": {},
   "outputs": [],
   "source": []
  }
 ],
 "metadata": {
  "kernelspec": {
   "display_name": "Python 3",
   "language": "python",
   "name": "python3"
  },
  "language_info": {
   "codemirror_mode": {
    "name": "ipython",
    "version": 3
   },
   "file_extension": ".py",
   "mimetype": "text/x-python",
   "name": "python",
   "nbconvert_exporter": "python",
   "pygments_lexer": "ipython3",
   "version": "3.8.10"
  }
 },
 "nbformat": 4,
 "nbformat_minor": 4
}
