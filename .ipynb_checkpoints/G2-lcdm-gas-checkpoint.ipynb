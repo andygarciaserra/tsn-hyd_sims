{
 "cells": [
  {
   "cell_type": "code",
   "execution_count": 1,
   "metadata": {},
   "outputs": [],
   "source": [
    "#Packages\n",
    "import h5py\n",
    "import os\n",
    "import numpy as np    \n",
    "import matplotlib.pyplot as plt\n",
    "from scipy.constants import pi\n",
    "from scipy.optimize import curve_fit as fit\n",
    "import func as func"
   ]
  },
  {
   "cell_type": "markdown",
   "metadata": {},
   "source": [
    "### Plotting 3D:"
   ]
  },
  {
   "cell_type": "code",
   "execution_count": null,
   "metadata": {
    "scrolled": false
   },
   "outputs": [],
   "source": [
    "#Directory with data:\n",
    "datadir = \"G2-lcdm-gas/\"\n",
    "\n",
    "files = os.listdir(datadir+\".\")\n",
    "files.sort()\n",
    "for file in files:    #Importing data (Particle Type 1 - dark matter, Particle Type 2 - baryonic matter):\n",
    "    f = h5py.File(datadir+file, \"r\")\n",
    "    group = f[\"PartType0\"]\n",
    "    data = group[\"Coordinates\"][()]\n",
    "    dens = group[\"Density\"][()]\n",
    "    \n",
    "    #Plotting the initial conditions of both galaxies:\n",
    "    fig = plt.figure(dpi=200)\n",
    "    ax = plt.axes(projection='3d')\n",
    "    plot = ax.scatter3D(data[:,0],data[:,1],data[:,2],'k.',s=0.5,c=dens,cmap=\"jet\",alpha=0.1)\n",
    "    cbar = fig.colorbar(plot, ax = ax)\n",
    "    cbar.set_label('Density', rotation=0)\n",
    "    plt.show()"
   ]
  },
  {
   "cell_type": "markdown",
   "metadata": {},
   "source": [
    "### Distances to one particle:"
   ]
  },
  {
   "cell_type": "code",
   "execution_count": 62,
   "metadata": {},
   "outputs": [],
   "source": [
    "datadir = \"G2-lcdm-gas/\"\n",
    "files = os.listdir(datadir+\".\")\n",
    "files.sort()\n",
    "\n",
    "f = h5py.File(datadir+\"snapshot_000.hdf5\", \"r\")\n",
    "group = f[\"PartType0\"]\n",
    "data = group[\"Coordinates\"][()]\n",
    "dmax=np.sqrt(3)*50000\n",
    "\n",
    "hist=[]\n",
    "np.array(hist)\n",
    "for j in range(1,100):\n",
    "    d=[]\n",
    "    for i in range(1,len(data)):\n",
    "        r=np.sqrt((abs(data[j,0]-data[i,0])**2) + (abs(data[j,1]-data[i,1])**2) + (abs(data[j,2]-data[i,2])**2))\n",
    "        d=np.append(d,r)\n",
    "    n,bins=np.histogram(d,bins=100,range=(0,dmax))\n",
    "    n.astype(float)\n",
    "    hist=np.append(hist,n)"
   ]
  },
  {
   "cell_type": "code",
   "execution_count": 17,
   "metadata": {},
   "outputs": [
    {
     "data": {
      "text/plain": [
       "array([  5.,   3.,   6.,   9.,   7.,  12.,  11.,  12.,  16.,  24.,  31.,\n",
       "        32.,  47.,  46.,  55.,  62.,  74.,  92., 105., 117., 123., 123.,\n",
       "       132., 144., 157., 178., 193., 210., 236., 249., 277., 294., 313.,\n",
       "       311., 343., 389., 369., 396., 426., 452., 465., 467., 497., 469.,\n",
       "       507., 503., 522., 560., 574., 602., 596., 624., 657., 647., 711.,\n",
       "       763., 778., 898., 816., 855., 823., 812., 762., 777., 738., 724.,\n",
       "       696., 678., 700., 646., 633., 602., 556., 533., 492., 478., 420.,\n",
       "       385., 389., 345., 324., 278., 256., 213., 164., 144., 122.,  91.,\n",
       "        87.,  76.,  48.,  41.,  40.,  31.,  21.,  16.,  14.,  11.,   5.,\n",
       "         4.])"
      ]
     },
     "execution_count": 17,
     "metadata": {},
     "output_type": "execute_result"
    }
   ],
   "source": [
    "n,c=np.histogram(d,bins=100)\n",
    "n.astype(float)"
   ]
  },
  {
   "cell_type": "code",
   "execution_count": 54,
   "metadata": {},
   "outputs": [
    {
     "data": {
      "text/plain": [
       "9900"
      ]
     },
     "execution_count": 54,
     "metadata": {},
     "output_type": "execute_result"
    }
   ],
   "source": [
    "len(hist[0])"
   ]
  },
  {
   "cell_type": "code",
   "execution_count": 53,
   "metadata": {},
   "outputs": [
    {
     "data": {
      "text/plain": [
       "array([  1,   3,   7,  11,  18,  30,  46,  51,  81,  93, 105, 115, 145,\n",
       "       145, 171, 177, 184, 200, 208, 236, 246, 278, 337, 371, 381, 403,\n",
       "       449, 431, 440, 453, 483, 470, 510, 500, 546, 532, 548, 561, 621,\n",
       "       625, 649, 690, 752, 753, 785, 810, 839, 918, 913, 870, 861, 824,\n",
       "       840, 821, 840, 843, 768, 736, 697, 656, 627, 589, 551, 497, 472,\n",
       "       425, 389, 333, 301, 292, 252, 211, 171, 127,  96,  81,  73,  51,\n",
       "        41,  31,  28,  19,  15,  10,   6,   2,   0,   0,   0,   0,   0,\n",
       "         0,   0,   0,   0,   0,   0,   0,   0,   0])"
      ]
     },
     "execution_count": 53,
     "metadata": {},
     "output_type": "execute_result"
    }
   ],
   "source": [
    "n"
   ]
  },
  {
   "cell_type": "code",
   "execution_count": 61,
   "metadata": {},
   "outputs": [
    {
     "data": {
      "text/plain": [
       "(2, 0)"
      ]
     },
     "execution_count": 61,
     "metadata": {},
     "output_type": "execute_result"
    }
   ],
   "source": [
    "hist=[[],[]]\n",
    "np.array(hist)\n",
    "np.shape(hist)"
   ]
  },
  {
   "cell_type": "code",
   "execution_count": 63,
   "metadata": {},
   "outputs": [
    {
     "data": {
      "text/plain": [
       "array([1., 1., 6., ..., 0., 0., 0.])"
      ]
     },
     "execution_count": 63,
     "metadata": {},
     "output_type": "execute_result"
    }
   ],
   "source": [
    "hist"
   ]
  },
  {
   "cell_type": "code",
   "execution_count": null,
   "metadata": {},
   "outputs": [],
   "source": []
  }
 ],
 "metadata": {
  "kernelspec": {
   "display_name": "Python 3",
   "language": "python",
   "name": "python3"
  },
  "language_info": {
   "codemirror_mode": {
    "name": "ipython",
    "version": 3
   },
   "file_extension": ".py",
   "mimetype": "text/x-python",
   "name": "python",
   "nbconvert_exporter": "python",
   "pygments_lexer": "ipython3",
   "version": "3.8.10"
  }
 },
 "nbformat": 4,
 "nbformat_minor": 4
}
